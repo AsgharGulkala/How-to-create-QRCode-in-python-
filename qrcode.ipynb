# How to create QRCode ?
## pip install qrcode
import qrcode as qr
img= qr.make("https://www.youtube.com/@asghargulkala9227")
img.save('AsgharGulakaYoutubeChannel.png')
